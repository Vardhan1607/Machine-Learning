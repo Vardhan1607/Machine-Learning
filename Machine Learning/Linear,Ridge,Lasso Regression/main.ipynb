{
  "nbformat": 4,
  "nbformat_minor": 0,
  "metadata": {
    "colab": {
      "name": "Assignment-2.ipynb",
      "provenance": [],
      "collapsed_sections": [],
      "toc_visible": true
    },
    "kernelspec": {
      "name": "python3",
      "display_name": "Python 3"
    }
  },
  "cells": [
    {
      "cell_type": "markdown",
      "metadata": {
        "id": "e6ss8wKQkivW",
        "colab_type": "text"
      },
      "source": [
        "# **Assignment** - **2** "
      ]
    },
    {
      "cell_type": "code",
      "metadata": {
        "id": "LNa1xkz4ej4t",
        "colab_type": "code",
        "colab": {}
      },
      "source": [
        "#Importing all the required modules\n",
        "import pandas as pd\n",
        "import numpy as np\n",
        "import matplotlib.pyplot as plt\n",
        "import seaborn as sns\n",
        "from sklearn.linear_model import LinearRegression\n",
        "from sklearn.linear_model import Lasso"
      ],
      "execution_count": 376,
      "outputs": []
    },
    {
      "cell_type": "markdown",
      "metadata": {
        "id": "E2S0iNSXjWsy",
        "colab_type": "text"
      },
      "source": [
        "# **Data** **Splitting**"
      ]
    },
    {
      "cell_type": "markdown",
      "metadata": {
        "id": "kb69h4OAj64V",
        "colab_type": "text"
      },
      "source": [
        "**Task** - **1**"
      ]
    },
    {
      "cell_type": "code",
      "metadata": {
        "id": "Yz2SUi_ofPRj",
        "colab_type": "code",
        "colab": {}
      },
      "source": [
        "#Task 1\n",
        "def split_data(data,ratio):\n",
        "  np.random.seed(42)\n",
        "  #Shuffling the data so as to randomnly choose the train and test set\n",
        "  shuffle = np.random.permutation(len(data))\n",
        "  set_size = int(len(data)*ratio)\n",
        "  #Dividing the given data into Test and Train dataset\n",
        "  test_index = shuffle[:set_size]\n",
        "  train_index = shuffle[set_size:]\n",
        "  return data.iloc[train_index],data.iloc[test_index]"
      ],
      "execution_count": 377,
      "outputs": []
    },
    {
      "cell_type": "code",
      "metadata": {
        "id": "VrgjrdZbwMie",
        "colab_type": "code",
        "colab": {
          "base_uri": "https://localhost:8080/",
          "height": 255
        },
        "outputId": "f79f6762-8d0b-4d2a-ace0-dfa5571c3eec"
      },
      "source": [
        "#Reading the given dataset \n",
        "data = pd.read_csv(\"Advertising Dataset.csv\")\n",
        "test_data,train_data = split_data(data,0.75)\n",
        "#Printing the test_data and train_data shape to check if they are allotted properly\n",
        "print('Shape of Test Data:',test_data.shape)\n",
        "print('Shape of Training data:',train_data.shape)\n",
        "#Printing the head of the data so as check features available\n",
        "print('The Data:')\n",
        "data.head()"
      ],
      "execution_count": 378,
      "outputs": [
        {
          "output_type": "stream",
          "text": [
            "Shape of Test Data: (50, 5)\n",
            "Shape of Training data: (150, 5)\n",
            "The Data:\n"
          ],
          "name": "stdout"
        },
        {
          "output_type": "execute_result",
          "data": {
            "text/html": [
              "<div>\n",
              "<style scoped>\n",
              "    .dataframe tbody tr th:only-of-type {\n",
              "        vertical-align: middle;\n",
              "    }\n",
              "\n",
              "    .dataframe tbody tr th {\n",
              "        vertical-align: top;\n",
              "    }\n",
              "\n",
              "    .dataframe thead th {\n",
              "        text-align: right;\n",
              "    }\n",
              "</style>\n",
              "<table border=\"1\" class=\"dataframe\">\n",
              "  <thead>\n",
              "    <tr style=\"text-align: right;\">\n",
              "      <th></th>\n",
              "      <th>Unnamed: 0</th>\n",
              "      <th>TV</th>\n",
              "      <th>radio</th>\n",
              "      <th>newspaper</th>\n",
              "      <th>sales</th>\n",
              "    </tr>\n",
              "  </thead>\n",
              "  <tbody>\n",
              "    <tr>\n",
              "      <th>0</th>\n",
              "      <td>1</td>\n",
              "      <td>230.1</td>\n",
              "      <td>37.8</td>\n",
              "      <td>69.2</td>\n",
              "      <td>22.1</td>\n",
              "    </tr>\n",
              "    <tr>\n",
              "      <th>1</th>\n",
              "      <td>2</td>\n",
              "      <td>44.5</td>\n",
              "      <td>39.3</td>\n",
              "      <td>45.1</td>\n",
              "      <td>10.4</td>\n",
              "    </tr>\n",
              "    <tr>\n",
              "      <th>2</th>\n",
              "      <td>3</td>\n",
              "      <td>17.2</td>\n",
              "      <td>45.9</td>\n",
              "      <td>69.3</td>\n",
              "      <td>9.3</td>\n",
              "    </tr>\n",
              "    <tr>\n",
              "      <th>3</th>\n",
              "      <td>4</td>\n",
              "      <td>151.5</td>\n",
              "      <td>41.3</td>\n",
              "      <td>58.5</td>\n",
              "      <td>18.5</td>\n",
              "    </tr>\n",
              "    <tr>\n",
              "      <th>4</th>\n",
              "      <td>5</td>\n",
              "      <td>180.8</td>\n",
              "      <td>10.8</td>\n",
              "      <td>58.4</td>\n",
              "      <td>12.9</td>\n",
              "    </tr>\n",
              "  </tbody>\n",
              "</table>\n",
              "</div>"
            ],
            "text/plain": [
              "   Unnamed: 0     TV  radio  newspaper  sales\n",
              "0           1  230.1   37.8       69.2   22.1\n",
              "1           2   44.5   39.3       45.1   10.4\n",
              "2           3   17.2   45.9       69.3    9.3\n",
              "3           4  151.5   41.3       58.5   18.5\n",
              "4           5  180.8   10.8       58.4   12.9"
            ]
          },
          "metadata": {
            "tags": []
          },
          "execution_count": 378
        }
      ]
    },
    {
      "cell_type": "code",
      "metadata": {
        "id": "gPDNNH42F2ih",
        "colab_type": "code",
        "colab": {
          "base_uri": "https://localhost:8080/",
          "height": 238
        },
        "outputId": "d72592ec-fcfe-4b1e-db9f-5d481432281f"
      },
      "source": [
        "#Getting some details about the training set\n",
        "print('The Training Data')\n",
        "print(train_data.shape)\n",
        "#Printing the head of the data so as check features available\n",
        "train_data.head()"
      ],
      "execution_count": 379,
      "outputs": [
        {
          "output_type": "stream",
          "text": [
            "The Training Data\n",
            "(150, 5)\n"
          ],
          "name": "stdout"
        },
        {
          "output_type": "execute_result",
          "data": {
            "text/html": [
              "<div>\n",
              "<style scoped>\n",
              "    .dataframe tbody tr th:only-of-type {\n",
              "        vertical-align: middle;\n",
              "    }\n",
              "\n",
              "    .dataframe tbody tr th {\n",
              "        vertical-align: top;\n",
              "    }\n",
              "\n",
              "    .dataframe thead th {\n",
              "        text-align: right;\n",
              "    }\n",
              "</style>\n",
              "<table border=\"1\" class=\"dataframe\">\n",
              "  <thead>\n",
              "    <tr style=\"text-align: right;\">\n",
              "      <th></th>\n",
              "      <th>Unnamed: 0</th>\n",
              "      <th>TV</th>\n",
              "      <th>radio</th>\n",
              "      <th>newspaper</th>\n",
              "      <th>sales</th>\n",
              "    </tr>\n",
              "  </thead>\n",
              "  <tbody>\n",
              "    <tr>\n",
              "      <th>95</th>\n",
              "      <td>96</td>\n",
              "      <td>163.3</td>\n",
              "      <td>31.6</td>\n",
              "      <td>52.9</td>\n",
              "      <td>16.9</td>\n",
              "    </tr>\n",
              "    <tr>\n",
              "      <th>15</th>\n",
              "      <td>16</td>\n",
              "      <td>195.4</td>\n",
              "      <td>47.7</td>\n",
              "      <td>52.9</td>\n",
              "      <td>22.4</td>\n",
              "    </tr>\n",
              "    <tr>\n",
              "      <th>30</th>\n",
              "      <td>31</td>\n",
              "      <td>292.9</td>\n",
              "      <td>28.3</td>\n",
              "      <td>43.2</td>\n",
              "      <td>21.4</td>\n",
              "    </tr>\n",
              "    <tr>\n",
              "      <th>158</th>\n",
              "      <td>159</td>\n",
              "      <td>11.7</td>\n",
              "      <td>36.9</td>\n",
              "      <td>45.2</td>\n",
              "      <td>7.3</td>\n",
              "    </tr>\n",
              "    <tr>\n",
              "      <th>128</th>\n",
              "      <td>129</td>\n",
              "      <td>220.3</td>\n",
              "      <td>49.0</td>\n",
              "      <td>3.2</td>\n",
              "      <td>24.7</td>\n",
              "    </tr>\n",
              "  </tbody>\n",
              "</table>\n",
              "</div>"
            ],
            "text/plain": [
              "     Unnamed: 0     TV  radio  newspaper  sales\n",
              "95           96  163.3   31.6       52.9   16.9\n",
              "15           16  195.4   47.7       52.9   22.4\n",
              "30           31  292.9   28.3       43.2   21.4\n",
              "158         159   11.7   36.9       45.2    7.3\n",
              "128         129  220.3   49.0        3.2   24.7"
            ]
          },
          "metadata": {
            "tags": []
          },
          "execution_count": 379
        }
      ]
    },
    {
      "cell_type": "code",
      "metadata": {
        "id": "sCVw7RpdF3Ax",
        "colab_type": "code",
        "colab": {
          "base_uri": "https://localhost:8080/",
          "height": 238
        },
        "outputId": "1909af07-405e-4b9a-fb5f-85e82d78254f"
      },
      "source": [
        "#Getting some details about the testing set\n",
        "print('The Test Data')\n",
        "print(test_data.shape)\n",
        "#Printing the head of the data so as check features available\n",
        "test_data.head()"
      ],
      "execution_count": 380,
      "outputs": [
        {
          "output_type": "stream",
          "text": [
            "The Test Data\n",
            "(50, 5)\n"
          ],
          "name": "stdout"
        },
        {
          "output_type": "execute_result",
          "data": {
            "text/html": [
              "<div>\n",
              "<style scoped>\n",
              "    .dataframe tbody tr th:only-of-type {\n",
              "        vertical-align: middle;\n",
              "    }\n",
              "\n",
              "    .dataframe tbody tr th {\n",
              "        vertical-align: top;\n",
              "    }\n",
              "\n",
              "    .dataframe thead th {\n",
              "        text-align: right;\n",
              "    }\n",
              "</style>\n",
              "<table border=\"1\" class=\"dataframe\">\n",
              "  <thead>\n",
              "    <tr style=\"text-align: right;\">\n",
              "      <th></th>\n",
              "      <th>Unnamed: 0</th>\n",
              "      <th>TV</th>\n",
              "      <th>radio</th>\n",
              "      <th>newspaper</th>\n",
              "      <th>sales</th>\n",
              "    </tr>\n",
              "  </thead>\n",
              "  <tbody>\n",
              "    <tr>\n",
              "      <th>176</th>\n",
              "      <td>177</td>\n",
              "      <td>248.4</td>\n",
              "      <td>30.2</td>\n",
              "      <td>20.3</td>\n",
              "      <td>20.2</td>\n",
              "    </tr>\n",
              "    <tr>\n",
              "      <th>181</th>\n",
              "      <td>182</td>\n",
              "      <td>218.5</td>\n",
              "      <td>5.4</td>\n",
              "      <td>27.4</td>\n",
              "      <td>12.2</td>\n",
              "    </tr>\n",
              "    <tr>\n",
              "      <th>89</th>\n",
              "      <td>90</td>\n",
              "      <td>109.8</td>\n",
              "      <td>47.8</td>\n",
              "      <td>51.4</td>\n",
              "      <td>16.7</td>\n",
              "    </tr>\n",
              "    <tr>\n",
              "      <th>8</th>\n",
              "      <td>9</td>\n",
              "      <td>8.6</td>\n",
              "      <td>2.1</td>\n",
              "      <td>1.0</td>\n",
              "      <td>4.8</td>\n",
              "    </tr>\n",
              "    <tr>\n",
              "      <th>13</th>\n",
              "      <td>14</td>\n",
              "      <td>97.5</td>\n",
              "      <td>7.6</td>\n",
              "      <td>7.2</td>\n",
              "      <td>9.7</td>\n",
              "    </tr>\n",
              "  </tbody>\n",
              "</table>\n",
              "</div>"
            ],
            "text/plain": [
              "     Unnamed: 0     TV  radio  newspaper  sales\n",
              "176         177  248.4   30.2       20.3   20.2\n",
              "181         182  218.5    5.4       27.4   12.2\n",
              "89           90  109.8   47.8       51.4   16.7\n",
              "8             9    8.6    2.1        1.0    4.8\n",
              "13           14   97.5    7.6        7.2    9.7"
            ]
          },
          "metadata": {
            "tags": []
          },
          "execution_count": 380
        }
      ]
    },
    {
      "cell_type": "code",
      "metadata": {
        "id": "0eFAwWgxwNAT",
        "colab_type": "code",
        "colab": {
          "base_uri": "https://localhost:8080/",
          "height": 34
        },
        "outputId": "456d01b2-4a5e-4ec1-e866-7fa387ae7b84"
      },
      "source": [
        "#Creating the training data , by allocating the features to the sales\n",
        "X_train,y_train = np.array([train_data['TV'].values,train_data['radio'].values,train_data['newspaper'].values]),(train_data['sales'].values).reshape(1,150)\n",
        "print(X_train.shape,y_train.shape)"
      ],
      "execution_count": 381,
      "outputs": [
        {
          "output_type": "stream",
          "text": [
            "(3, 150) (1, 150)\n"
          ],
          "name": "stdout"
        }
      ]
    },
    {
      "cell_type": "markdown",
      "metadata": {
        "id": "-Rw4kejhjkXE",
        "colab_type": "text"
      },
      "source": [
        "# **Multiple** **Linear** **Regression** **Model**"
      ]
    },
    {
      "cell_type": "markdown",
      "metadata": {
        "id": "viY1ZeRaj90Y",
        "colab_type": "text"
      },
      "source": [
        "**Task** - **2**"
      ]
    },
    {
      "cell_type": "code",
      "metadata": {
        "id": "PyspdyikwM1U",
        "colab_type": "code",
        "colab": {
          "base_uri": "https://localhost:8080/",
          "height": 85
        },
        "outputId": "847b92b7-d412-42ac-ec42-5e466ef6e1cd"
      },
      "source": [
        "#Task2\n",
        "#Calculating the mean of tv,radio,newspaper and sales\n",
        "x_mean = np.mean(X_train,axis=1,keepdims=True)\n",
        "y_mean = np.mean(y_train)\n",
        "print('X-mean:',x_mean)\n",
        "print('Y-mean:',y_mean)"
      ],
      "execution_count": 382,
      "outputs": [
        {
          "output_type": "stream",
          "text": [
            "X-mean: [[144.71466667]\n",
            " [ 23.416     ]\n",
            " [ 30.06533333]]\n",
            "Y-mean: 13.981333333333332\n"
          ],
          "name": "stdout"
        }
      ]
    },
    {
      "cell_type": "code",
      "metadata": {
        "id": "NnMhqwgYx5ML",
        "colab_type": "code",
        "colab": {}
      },
      "source": [
        "#Calculating the required so as to find w-matrix\n",
        "covariance = np.dot((X_train-x_mean),(y_train-y_mean).T)\n",
        "var = np.dot((X_train-x_mean),(X_train-x_mean).T)\n",
        "#Taking inverse of variance matrix\n",
        "var = np.linalg.inv(var)"
      ],
      "execution_count": 383,
      "outputs": []
    },
    {
      "cell_type": "code",
      "metadata": {
        "id": "fXRwpKiDyAu8",
        "colab_type": "code",
        "colab": {
          "base_uri": "https://localhost:8080/",
          "height": 51
        },
        "outputId": "b5cbccd4-8e2b-4e48-ce47-62abbcc1eb21"
      },
      "source": [
        "#Calculating the coeff-matrix\n",
        "w=np.dot(covariance.T,var)\n",
        "#Calculating the bias for the model\n",
        "b=y_mean-np.dot(w,x_mean)\n",
        "print('Co-efficients:',w)\n",
        "print('Bias:',b)\n"
      ],
      "execution_count": 384,
      "outputs": [
        {
          "output_type": "stream",
          "text": [
            "Co-efficients: [[ 0.04575751  0.18843966 -0.00578168]]\n",
            "Bias: [[3.12087614]]\n"
          ],
          "name": "stdout"
        }
      ]
    },
    {
      "cell_type": "code",
      "metadata": {
        "id": "aR8J8QRoyA_o",
        "colab_type": "code",
        "colab": {
          "base_uri": "https://localhost:8080/",
          "height": 51
        },
        "outputId": "6e839872-f27b-4e93-ddfd-2d38fb3ce26a"
      },
      "source": [
        "#Using the Python Model To predict the co-efficients and intercept\n",
        "reg = LinearRegression().fit(X_train.T, y_train.T)\n",
        "reg.score(X_train.T, y_train.T)\n",
        "#Printing those values\n",
        "print('Co-efficients:',reg.coef_)\n",
        "print('Bias:',reg.intercept_)"
      ],
      "execution_count": 385,
      "outputs": [
        {
          "output_type": "stream",
          "text": [
            "Co-efficients: [[ 0.04575751  0.18843966 -0.00578168]]\n",
            "Bias: [3.12087614]\n"
          ],
          "name": "stdout"
        }
      ]
    },
    {
      "cell_type": "code",
      "metadata": {
        "id": "KapWaxGJ7LC7",
        "colab_type": "code",
        "colab": {
          "base_uri": "https://localhost:8080/",
          "height": 297
        },
        "outputId": "cf9c3464-21b2-4dbd-98ab-1ad7c611649b"
      },
      "source": [
        "#Comparing co-efficients by plotting in a Bar Plot\n",
        "new_df = [{'TV': w[0][0],'Radio':w[0][1] ,'Newspaper':w[0][2]}, \n",
        "          {'TV': reg.coef_[0][0],'Radio':reg.coef_[0][1] ,'Newspaper':reg.coef_[0][2]}]\n",
        "df = pd.DataFrame(new_df,index =['Model', 'Python Model'])\n",
        "model = ['Model','Python Model']\n",
        "df['model'] = model\n",
        "#Plottinf the bar plots , thus comparing them using seaborn\n",
        "fig, axs = plt.subplots(figsize=(10,4),ncols=3)\n",
        "sns.barplot(data= df,x=\"model\", y=\"TV\", palette=\"Oranges\" ,ax=axs[0])\n",
        "sns.barplot(data= df,x=\"model\", y=\"Radio\", palette=\"Greens\",ax=axs[1])\n",
        "sns.barplot(data= df,x=\"model\", y=\"Newspaper\", palette=\"Purples\",ax=axs[2])\n",
        "plt.tight_layout()"
      ],
      "execution_count": 386,
      "outputs": [
        {
          "output_type": "display_data",
          "data": {
            "image/png": "[encoded data removed]",
            "text/plain": [
              "<Figure size 720x288 with 3 Axes>"
            ]
          },
          "metadata": {
            "tags": [],
            "needs_background": "light"
          }
        }
      ]
    },
    {
      "cell_type": "markdown",
      "metadata": {
        "id": "WK1jw8hbkAZ3",
        "colab_type": "text"
      },
      "source": [
        "**Task** - **3**"
      ]
    },
    {
      "cell_type": "code",
      "metadata": {
        "id": "uWfJQfwN7CVD",
        "colab_type": "code",
        "colab": {}
      },
      "source": [
        "#Task-3\n",
        "#Allocating our attributes and sales to corresponding test data\n",
        "X_test , y_test = np.array([test_data['TV'].values,test_data['radio'].values,test_data['newspaper'].values]) , test_data['sales'].values"
      ],
      "execution_count": 387,
      "outputs": []
    },
    {
      "cell_type": "code",
      "metadata": {
        "id": "nVdFWYyIPfHD",
        "colab_type": "code",
        "colab": {
          "base_uri": "https://localhost:8080/",
          "height": 34
        },
        "outputId": "093d45d3-bb0d-4015-8d0f-a436d17ad05d"
      },
      "source": [
        "#Predicting the the X_test values  \n",
        "y_pred= b + np.dot(w,X_test)\n",
        "\n",
        "#Calculating and Printing the Mean Square error\n",
        "mse=np.sum((y_pred-y_test)**2)\n",
        "n=X_test.shape[1]\n",
        "mse = (mse/n)\n",
        "print('Mean Sqaured Error:',mse)\n"
      ],
      "execution_count": 388,
      "outputs": [
        {
          "output_type": "stream",
          "text": [
            "Mean Sqaured Error: 3.4531805967396734\n"
          ],
          "name": "stdout"
        }
      ]
    },
    {
      "cell_type": "markdown",
      "metadata": {
        "id": "9zcccE9zjuDW",
        "colab_type": "text"
      },
      "source": [
        "# **Ridge** **Regression**"
      ]
    },
    {
      "cell_type": "markdown",
      "metadata": {
        "id": "AwPpcO3DkDHb",
        "colab_type": "text"
      },
      "source": [
        "**Task** - **4**"
      ]
    },
    {
      "cell_type": "code",
      "metadata": {
        "id": "-aUsepUn6ul5",
        "colab_type": "code",
        "colab": {}
      },
      "source": [
        "#Task-4\n",
        "#Performing Ridge regression , thus alloting the required variables\n",
        "lmbda=[0.5, 1, 5, 10, 50, 100]\n",
        "I=np.identity(X_train.shape[0])\n",
        "coefs_mean =[]\n",
        "coefs_max=[]\n",
        "coefs=[]\n",
        "mse=[]\n",
        "b_rr=[]"
      ],
      "execution_count": 389,
      "outputs": []
    },
    {
      "cell_type": "code",
      "metadata": {
        "id": "3XM-sQcbU8za",
        "colab_type": "code",
        "colab": {}
      },
      "source": [
        "#Going into a loop to calculate \n",
        "for l in lmbda:\n",
        "  #Finding the w-matrix for the ridge regression,for different lambdas\n",
        "  cov_ridge = np.dot((X_train-x_mean),(y_train-y_mean).T)\n",
        "  var_ridge = np.linalg.inv(np.dot((X_train-x_mean),(X_train-x_mean).T)+l*I)\n",
        "  w_ridge=(np.dot(var_ridge,cov_ridge)).T\n",
        "  #Finding the intercept for different lambdas\n",
        "  b_ridge=y_mean-np.dot((w_ridge),x_mean)\n",
        "  b_rr.append(b_ridge.tolist())\n",
        "\n",
        "  coefs.append(w_ridge[0].tolist())\n",
        "  coefs_max.append(np.max(w_ridge[0]).tolist())\n",
        "  coefs_mean.append(np.mean(w_ridge[0]).tolist())\n",
        "  #Finding the mean squared error for different lambdas\n",
        "  \n",
        "  y_pred= b_ridge + np.dot(w_ridge,X_test)\n",
        "  mse_ridge=np.sum((y_pred-y_test)**2)\n",
        "  n=X_test.shape[1]\n",
        "  mse_ridge = (mse_ridge/n)\n",
        "  mse.append(mse_ridge)"
      ],
      "execution_count": 390,
      "outputs": []
    },
    {
      "cell_type": "code",
      "metadata": {
        "id": "OEDFZLVAZrAb",
        "colab_type": "code",
        "colab": {
          "base_uri": "https://localhost:8080/",
          "height": 425
        },
        "outputId": "9a916482-5a9b-42ad-9d32-d9bb70f9ef89"
      },
      "source": [
        "#Printing the above obtained results\n",
        "for i in range(6):\n",
        "  print('Lambda =',lmbda[i])\n",
        "  print('Co-efficients :',coefs[i])\n",
        "  print('Intercept :',b_rr[i])\n",
        "  print('The mean squared error :',mse[i])"
      ],
      "execution_count": 391,
      "outputs": [
        {
          "output_type": "stream",
          "text": [
            "Lambda = 0.5\n",
            "Co-efficients : [0.045757506915486454, 0.18843632919543382, -0.005780894973542443]\n",
            "Intercept : [[3.120930422465282]]\n",
            "The mean squared error : 3.453181682380154\n",
            "Lambda = 1\n",
            "Co-efficients : [0.04575750751400622, 0.18843300307552752, -0.005780112925447722]\n",
            "Intercept : [[3.120984707737769]]\n",
            "The mean squared error : 3.4531827724979944\n",
            "Lambda = 5\n",
            "Co-efficients : [0.04575751227875822, 0.18840639854055324, -0.005773857894611344]\n",
            "Intercept : [[3.1214189304121227]]\n",
            "The mean squared error : 3.4531916545671315\n",
            "Lambda = 10\n",
            "Co-efficients : [0.04575751817620287, 0.1883731539285864, -0.005766042489570217]\n",
            "Intercept : [[3.121961560041507]]\n",
            "The mean squared error : 3.453203159691977\n",
            "Lambda = 50\n",
            "Co-efficients : [0.04575756302003052, 0.18810763849152612, -0.005703654321960516]\n",
            "Intercept : [[3.1262966589008983]]\n",
            "The mean squared error : 3.4533112451056627\n",
            "Lambda = 100\n",
            "Co-efficients : [0.0457576132552168, 0.18777684392386837, -0.005626005502837095]\n",
            "Intercept : [[3.131700737099049]]\n",
            "The mean squared error : 3.453486187559663\n"
          ],
          "name": "stdout"
        }
      ]
    },
    {
      "cell_type": "code",
      "metadata": {
        "id": "P75RF8qfdBPP",
        "colab_type": "code",
        "colab": {
          "base_uri": "https://localhost:8080/",
          "height": 513
        },
        "outputId": "052ed23c-88d1-48be-b490-15aa09057b04"
      },
      "source": [
        "#Plotting the co-efficients against each other thereby comparting them\n",
        "plt.figure(figsize=(7,7))\n",
        "plt.title('Plotting the coefficients against each other')\n",
        "\n",
        "#Plotting Co-eff mean v/s lambda\n",
        "plt.subplot(2, 1, 1) \n",
        "plt.plot(lmbda,coefs_mean,'ro-')\n",
        "plt.xlabel('Lambda',fontsize=10)\n",
        "plt.ylabel('Co-eff Mean',fontsize=10)\n",
        "plt.grid(True)\n",
        "\n",
        "#Plotting Co-eff max v/s lambda\n",
        "plt.subplot(2, 1, 2)\n",
        "plt.plot(lmbda,coefs_max,'bo-')\n",
        "plt.xlabel('Lambda',fontsize=10)\n",
        "plt.ylabel('Co-eff Max',fontsize=10)\n",
        "plt.grid(True) \n",
        "\n",
        "plt.tight_layout()"
      ],
      "execution_count": 392,
      "outputs": [
        {
          "output_type": "display_data",
          "data": {
            "image/png": "[encoded data removed]",
            "text/plain": [
              "<Figure size 504x504 with 2 Axes>"
            ]
          },
          "metadata": {
            "tags": [],
            "needs_background": "light"
          }
        }
      ]
    },
    {
      "cell_type": "code",
      "metadata": {
        "id": "-xO7ejsD6vUY",
        "colab_type": "code",
        "colab": {
          "base_uri": "https://localhost:8080/",
          "height": 345
        },
        "outputId": "b8c003f5-4b22-4a45-a33d-ab634d91971e"
      },
      "source": [
        "#Comparing the Mean Squared Error for different Lambda's\n",
        "plt.figure(figsize=(5,5))\n",
        "plt.plot(lmbda,mse,'o-')\n",
        "plt.ylabel('Mean Squared Error',fontsize=10)\n",
        "plt.xlabel('Lambda',fontsize=10)\n",
        "plt.grid(True) "
      ],
      "execution_count": 393,
      "outputs": [
        {
          "output_type": "display_data",
          "data": {
            "image/png": "[encoded data removed]",
            "text/plain": [
              "<Figure size 360x360 with 1 Axes>"
            ]
          },
          "metadata": {
            "tags": [],
            "needs_background": "light"
          }
        }
      ]
    },
    {
      "cell_type": "markdown",
      "metadata": {
        "id": "8ReTupoCj0Tg",
        "colab_type": "text"
      },
      "source": [
        "# **Lasso** **Regression**"
      ]
    },
    {
      "cell_type": "markdown",
      "metadata": {
        "id": "Eg37QgqckGht",
        "colab_type": "text"
      },
      "source": [
        "**Task** - **5**"
      ]
    },
    {
      "cell_type": "code",
      "metadata": {
        "id": "aZCvo7Jec5T_",
        "colab_type": "code",
        "colab": {
          "base_uri": "https://localhost:8080/",
          "height": 457
        },
        "outputId": "7b1f5853-7538-4c6c-e1f1-16a7db84c7ae"
      },
      "source": [
        "#Task-5\n",
        "#Lasso Regression\n",
        "lasso = Lasso()\n",
        "coeff=[]\n",
        "alphas = [0.5, 1, 5, 10, 50, 100]\n",
        "most_imp=''\n",
        "#Finding the coeff for different alphas \n",
        "for a in alphas:\n",
        "    lasso.set_params(alpha=a)\n",
        "    lasso.fit(X_train.T, y_train.T)\n",
        "    coeff.append(lasso.coef_)\n",
        "    print(lasso.coef_)\n",
        "    if(((lasso.coef_[0]==0) and (lasso.coef_[1]==0)) or((lasso.coef_[2]==0) and (lasso.coef_[1]==0)) or ((lasso.coef_[2]==0)and (lasso.coef_[1]==0))):\n",
        "      if lasso.coef_[2]==0 and lasso.coef_[1]==0 :\n",
        "        most_imp='TV'\n",
        "      if lasso.coef_[2]==0 and lasso.coef_[0]==0 :\n",
        "         most_imp='Radio'\n",
        "      if lasso.coef_[0]==0 and lasso.coef_[1]==0:\n",
        "         most_imp='Newspaper'\n",
        "#Plotting Co-efficients vs Lambda\n",
        "plt.figure(figsize=(7,5))   \n",
        "ax = plt.gca()\n",
        "ax.plot(lmbda, coeff)\n",
        "ax.set_xscale('log')\n",
        "plt.axis('tight')\n",
        "plt.legend(('TV','Radio','Newspaper'))\n",
        "plt.xlabel('Lambda')\n",
        "plt.ylabel('Co-efficients')"
      ],
      "execution_count": 394,
      "outputs": [
        {
          "output_type": "stream",
          "text": [
            "[ 0.04569456  0.18523656 -0.00406609]\n",
            "[ 0.04563146  0.18203603 -0.00235105]\n",
            "[0.04524952 0.16237428 0.        ]\n",
            "[0.04480362 0.13933604 0.        ]\n",
            "[0.04077729 0.         0.        ]\n",
            "[0.03396629 0.         0.        ]\n"
          ],
          "name": "stdout"
        },
        {
          "output_type": "execute_result",
          "data": {
            "text/plain": [
              "Text(0, 0.5, 'Co-efficients')"
            ]
          },
          "metadata": {
            "tags": []
          },
          "execution_count": 394
        },
        {
          "output_type": "display_data",
          "data": {
            "image/png": "[encoded data removed]",
            "text/plain": [
              "<Figure size 504x360 with 1 Axes>"
            ]
          },
          "metadata": {
            "tags": [],
            "needs_background": "light"
          }
        }
      ]
    },
    {
      "cell_type": "code",
      "metadata": {
        "id": "kqe-SqlbdGWW",
        "colab_type": "code",
        "colab": {
          "base_uri": "https://localhost:8080/",
          "height": 34
        },
        "outputId": "abe4d5e1-50e9-44ef-f911-03bf2c79c54a"
      },
      "source": [
        "#The most important feature is the that doesnt goes zero last, hence from curve it is clear that it is radi\n",
        "print(\"Thus, it is clear from the curve and the co-efficient values that the most important feature is:\",most_imp)"
      ],
      "execution_count": 395,
      "outputs": [
        {
          "output_type": "stream",
          "text": [
            "Thus, it is clear from the curve and the co-efficient values that the most important feature is: TV\n"
          ],
          "name": "stdout"
        }
      ]
    },
    {
      "cell_type": "markdown",
      "metadata": {
        "id": "dWkBGyTBYjT-",
        "colab_type": "text"
      },
      "source": [
        "Alternate ways of plotting Co-eff v/s Lambda"
      ]
    },
    {
      "cell_type": "code",
      "metadata": {
        "id": "ZX2L7xmB6vkj",
        "colab_type": "code",
        "colab": {
          "base_uri": "https://localhost:8080/",
          "height": 360
        },
        "outputId": "2e376166-5466-4f8a-cd64-e4676209204d"
      },
      "source": [
        "#Alternative methods of Plotting co-efficients from Ridge Regression\n",
        "#Allocating necessary variables\n",
        "tv=[]\n",
        "radio=[]\n",
        "newspaper=[]\n",
        "for i in range(6):\n",
        "  tv.append(coefs[i][0])\n",
        "  radio.append(coefs[i][1])\n",
        "  newspaper.append(coefs[i][2])\n",
        "#Plotting these variables against lambda\n",
        "lmbda=['0.5', '1', '5', '10', '50', '100']\n",
        "#Forming a dataframe before plotting\n",
        "data_frame = pd.DataFrame({'TV': tv,\n",
        "                    'Newspaper': newspaper,       \n",
        "                    'Radio':radio}, index=lmbda)\n",
        "#Thus plotting them\n",
        "data_frame.plot.bar(stacked=True,figsize=(8,5)) \n",
        "plt.xlabel('Lambda')\n",
        "plt.ylabel('Coefficients')"
      ],
      "execution_count": 396,
      "outputs": [
        {
          "output_type": "execute_result",
          "data": {
            "text/plain": [
              "Text(0, 0.5, 'Coefficients')"
            ]
          },
          "metadata": {
            "tags": []
          },
          "execution_count": 396
        },
        {
          "output_type": "display_data",
          "data": {
            "image/png": "[encoded data removed]",
            "text/plain": [
              "<Figure size 576x360 with 1 Axes>"
            ]
          },
          "metadata": {
            "tags": [],
            "needs_background": "light"
          }
        }
      ]
    },
    {
      "cell_type": "code",
      "metadata": {
        "id": "orNvkCDP6vrC",
        "colab_type": "code",
        "colab": {
          "base_uri": "https://localhost:8080/",
          "height": 513
        },
        "outputId": "6d69d248-3974-446f-ceb8-dccabe32877e"
      },
      "source": [
        "#Plotting each feature against lambda\n",
        "plt.figure(figsize=(7,7))\n",
        "\n",
        "#plotting TV feature v/s lambda\n",
        "plt.subplot(3, 1, 1) \n",
        "plt.plot(lmbda,tv,'ro-')\n",
        "plt.xlabel('Lambda',fontsize=10)\n",
        "plt.ylabel('TV',fontsize=10)\n",
        "plt.grid(True)\n",
        "\n",
        "#Plotting Radio feature v/s Lambda\n",
        "plt.subplot(3, 1, 2)\n",
        "plt.plot(lmbda,radio,'bo-')\n",
        "plt.xlabel('Lambda',fontsize=10)\n",
        "plt.ylabel('Radio',fontsize=10)\n",
        "plt.grid(True)\n",
        "\n",
        "#Plotting Newspaper feature v/s Lambda\n",
        "plt.subplot(3, 1, 3)\n",
        "plt.plot(lmbda,newspaper,'go-')\n",
        "plt.xlabel('Lambda',fontsize=10)\n",
        "plt.ylabel('Newspaper',fontsize=10)\n",
        "plt.grid(True)\n",
        "\n",
        "plt.tight_layout()"
      ],
      "execution_count": 397,
      "outputs": [
        {
          "output_type": "display_data",
          "data": {
            "image/png": "[encoded data removed]",
            "text/plain": [
              "<Figure size 504x504 with 3 Axes>"
            ]
          },
          "metadata": {
            "tags": [],
            "needs_background": "light"
          }
        }
      ]
    },
    {
      "cell_type": "code",
      "metadata": {
        "id": "ImIV1Dd2jlTg",
        "colab_type": "code",
        "colab": {}
      },
      "source": [
        ""
      ],
      "execution_count": null,
      "outputs": []
    },
    {
      "cell_type": "code",
      "metadata": {
        "id": "pX9Exr0ujllQ",
        "colab_type": "code",
        "colab": {}
      },
      "source": [
        ""
      ],
      "execution_count": null,
      "outputs": []
    },
    {
      "cell_type": "code",
      "metadata": {
        "id": "pwYeVpxrjlGR",
        "colab_type": "code",
        "colab": {}
      },
      "source": [
        ""
      ],
      "execution_count": null,
      "outputs": []
    }
  ]
}